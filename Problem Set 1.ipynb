{
 "cells": [
  {
   "cell_type": "markdown",
   "id": "a6709943-205f-4dc1-be63-dbd43ad30315",
   "metadata": {
    "jp-MarkdownHeadingCollapsed": true
   },
   "source": [
    "# Question 1\r\n",
    "What data type is each of the following (evaluate where necessary)\n",
    "\n",
    "*5\r",
    "*\n",
    "5.0\r\n",
    "5 > 1\r\n",
    "'5'\r\n",
    "5 * 2\r\n",
    "'5' * 2\r\n",
    "'5' + '2'\r\n",
    "5 / 2\r\n",
    "5 % 2\r\n",
    "{5, 2, 1}\r\n",
    "5 == 3\r\n",
    "Pi (he number)the number)the number)\n",
    "?"
   ]
  },
  {
   "cell_type": "code",
   "execution_count": 2,
   "id": "670cf360-9f30-48e4-9973-097c93535007",
   "metadata": {},
   "outputs": [
    {
     "name": "stdout",
     "output_type": "stream",
     "text": [
      "5: <class 'int'>\n",
      "5.0: <class 'float'>\n",
      "5 * 2: <class 'int'>\n",
      "5 / 2: <class 'float'>\n",
      "5 > 1: <class 'bool'>\n",
      "5 == 3: <class 'bool'>\n",
      "'5': <class 'str'>\n",
      "'5' * 2: <class 'str'>\n",
      "'5' + '2': <class 'str'>\n",
      "{5, 2, 1}: <class 'set'>\n",
      "5 % 2: <class 'int'>\n",
      "Pi: <class 'float'>\n",
      "\n",
      "Actual values:\n",
      "5 * 2 = 10\n",
      "5 / 2 = 2.5\n",
      "'5' * 2 = 55\n",
      "'5' + '2' = 52\n",
      "5 % 2 = 1\n",
      "Pi ≈ 3.141592653589793\n"
     ]
    }
   ],
   "source": [
    "# Numeric Types\n",
    "print(\"5:\", type(5))\n",
    "print(\"5.0:\", type(5.0))\n",
    "print(\"5 * 2:\", type(5 * 2))\n",
    "print(\"5 / 2:\", type(5 / 2))\n",
    "\n",
    "# Boolean\n",
    "print(\"5 > 1:\", type(5 > 1))\n",
    "print(\"5 == 3:\", type(5 == 3))\n",
    "\n",
    "# String\n",
    "print(\"'5':\", type('5'))\n",
    "print(\"'5' * 2:\", type('5' * 2))\n",
    "print(\"'5' + '2':\", type('5' + '2'))\n",
    "\n",
    "# Set\n",
    "print(\"{5, 2, 1}:\", type({5, 2, 1}))\n",
    "\n",
    "# Arithmetic Operations\n",
    "print(\"5 % 2:\", type(5 % 2))\n",
    "\n",
    "# Pi\n",
    "import math\n",
    "print(\"Pi:\", type(math.pi))\n",
    "\n",
    "# Print actual values for reference\n",
    "print(\"\\nActual values:\")\n",
    "print(\"5 * 2 =\", 5 * 2)\n",
    "print(\"5 / 2 =\", 5 / 2)\n",
    "print(\"'5' * 2 =\", '5' * 2)\n",
    "print(\"'5' + '2' =\", '5' + '2')\n",
    "print(\"5 % 2 =\", 5 % 2)\n",
    "print(\"Pi ≈\", math.pi)"
   ]
  },
  {
   "cell_type": "markdown",
   "id": "b9db32a5-ddd4-43ec-b157-3c26b637f8e4",
   "metadata": {
    "jp-MarkdownHeadingCollapsed": true
   },
   "source": [
    "# Question 2\r\n",
    "Write (and evaluate) python expressions that answer these questions:\r\n",
    "a. How many letters are there in 'Supercalifragilisticexpialidocious'?\r\n",
    "b. Does 'Supercalifragilisticexpialidocious' contain 'ice' as a substri\n",
    "c. Which of the following words is the longest:\r\n",
    "Supercalifragilisticexpialidocious, Honorificabilitudinitatibus, or\r\n",
    "Bababadalgharaghtakamminarronnkonn?\r\n",
    "d. Which composer comes first in the dictionary: 'Berlioz', 'Borodin', 'Brian',\r\n",
    "'Bartok', 'Bellini', 'Buxtehude', 'Bernstein'. Which one comes last?ng?"
   ]
  },
  {
   "cell_type": "code",
   "execution_count": 4,
   "id": "2124ff6e-470a-4822-b0ba-f2f0c2923185",
   "metadata": {},
   "outputs": [
    {
     "name": "stdout",
     "output_type": "stream",
     "text": [
      "a. Number of letters in 'Supercalifragilisticexpialidocious': 34\n",
      "b. Does 'Supercalifragilisticexpialidocious' contain 'ice'?: True\n",
      "c. The longest word is: Supercalifragilisticexpialidocious\n",
      "d. First composer alphabetically: Bartok\n",
      "   Last composer alphabetically: Buxtehude\n"
     ]
    }
   ],
   "source": [
    "# a. Number of letters in 'Supercalifragilisticexpialidocious'\n",
    "word = \"Supercalifragilisticexpialidocious\"\n",
    "print(f\"a. Number of letters in '{word}': {len(word)}\")\n",
    "\n",
    "# b. Check if 'Supercalifragilisticexpialidocious' contains 'ice'\n",
    "print(f\"b. Does '{word}' contain 'ice'?: {'ice' in word}\")\n",
    "\n",
    "# c. Find the longest word\n",
    "words = ['Supercalifragilisticexpialidocious', 'Honorificabilitudinitatibus', 'Bababadalgharaghtakamminarronnkonn']\n",
    "longest_word = max(words, key=len)\n",
    "print(f\"c. The longest word is: {longest_word}\")\n",
    "\n",
    "# d. First and last composer in dictionary order\n",
    "composers = ['Berlioz', 'Borodin', 'Brian', 'Bartok', 'Bellini', 'Buxtehude', 'Bernstein']\n",
    "print(f\"d. First composer alphabetically: {min(composers)}\")\n",
    "print(f\"   Last composer alphabetically: {max(composers)}\")"
   ]
  },
  {
   "cell_type": "markdown",
   "id": "40ff75ca-bbee-4f41-868e-13236a443648",
   "metadata": {
    "jp-MarkdownHeadingCollapsed": true
   },
   "source": [
    "# Question 3\n",
    "Implement function triangleArea(a,b,c) that takes as input the lengths of the 3\n",
    "sides of a triangle and returns the area of the triangle. By Heron's formula, the area\n",
    "of a triangle with side lengths a, b, and c iss(s - a)(s - b)(s - c) , wheres = (a + b + c)/2\n",
    ".\n",
    ">>> triangleArea(2,2,2)\n",
    "1.7320508075688772"
   ]
  },
  {
   "cell_type": "code",
   "execution_count": 6,
   "id": "107495a9-f24e-4410-851f-5cbcecac0ab4",
   "metadata": {},
   "outputs": [
    {
     "name": "stdout",
     "output_type": "stream",
     "text": [
      "1.7320508075688772\n"
     ]
    }
   ],
   "source": [
    "import math\n",
    "\n",
    "def triangleArea(a, b, c):\n",
    "    # Calculate semi-perimeter\n",
    "    s = (a + b + c) / 2\n",
    "    \n",
    "    # Calculate area using Heron's formula\n",
    "    area = math.sqrt(s * (s - a) * (s - b) * (s - c))\n",
    "    \n",
    "    return area\n",
    "\n",
    "# Test the function\n",
    "print(triangleArea(2, 2, 2))"
   ]
  },
  {
   "cell_type": "markdown",
   "id": "d3237762-5958-4a5b-954e-dcf562a503c7",
   "metadata": {},
   "source": [
    "# Question 4\r\n",
    "Write a program in python to separate odd and even integers in separate arrays. Go\r\n",
    "to the editor\r\n",
    "Test Data :\r\n",
    "Input the number of elements to be stored in the array :5\r\n",
    "Input 5 elements in the array :\r\n",
    "element - 0 : 25\r\n",
    "element - 1 : 47\r\n",
    "element - 2 : 42\r\n",
    "element - 3 : 56\r\n",
    "element - 4 : 32\r\n",
    "Expected Output:\r\n",
    "The Even elements are:\r\n",
    "42 56 32\r\n",
    "The Odd elements are :\r\n",
    "25 47"
   ]
  },
  {
   "cell_type": "code",
   "execution_count": 1,
   "id": "e6b26f06-c7bc-45bc-bc0f-75443c4d9975",
   "metadata": {},
   "outputs": [
    {
     "name": "stdin",
     "output_type": "stream",
     "text": [
      "Input the number of elements to be stored in the array:  5\n",
      "element - 0 :  25\n",
      "element - 1 :  47\n",
      "element - 2 :  42\n",
      "element - 3 :  56\n",
      "element - 4 :  32\n"
     ]
    },
    {
     "name": "stdout",
     "output_type": "stream",
     "text": [
      "The Even elements are: 42 56 32\n",
      "The Odd elements are : 25 47\n"
     ]
    }
   ],
   "source": [
    "def separate_odd_even():\n",
    "    # Input the number of elements\n",
    "    n = int(input(\"Input the number of elements to be stored in the array: \"))\n",
    "    \n",
    "    # Input the elements\n",
    "    arr = []\n",
    "    for i in range(n):\n",
    "        element = int(input(f\"element - {i} : \"))\n",
    "        arr.append(element)\n",
    "    \n",
    "    # Separate odd and even integers\n",
    "    even = []\n",
    "    odd = []\n",
    "    for num in arr:\n",
    "        if num % 2 == 0:\n",
    "            even.append(num)\n",
    "        else:\n",
    "            odd.append(num)\n",
    "    \n",
    "    # Print the results\n",
    "    print(\"The Even elements are:\", *even)\n",
    "    print(\"The Odd elements are :\", *odd)\n",
    "\n",
    "# Run the function\n",
    "separate_odd_even()"
   ]
  },
  {
   "cell_type": "markdown",
   "id": "c528e631-0d2f-4047-820c-2da888707cb7",
   "metadata": {},
   "source": [
    "# Question 5\r\n",
    "a. Write a function inside(x,y,x1,y1,x2,y2) that returns True or False\r\n",
    "depending on whether the point (x,y) lies in the rectangle with lower left\r\n",
    "corner (x1,y1) and upper right corner (x2,y2).\r\n",
    ">>> inside(1,1,0,0,2,3)\r\n",
    "True\r\n",
    ">>> inside(-1,-1,0,0,2,3)\r\n",
    "False\r\n",
    "b. Use function inside() from part a. to write an expression that tests whether\r\n",
    "the point (1,1) lies in both of the following rectangles: one with lower left\r\n",
    "corner (0.3, 0.5) and upper right corner (1.1, 0.7) and the other with lower\r\n",
    "left corner (0.5, 0.2) and upper right corner (1.1, 2)."
   ]
  },
  {
   "cell_type": "code",
   "execution_count": 5,
   "id": "aa395b80-1a6f-44d0-a40e-ed38ada7ca1c",
   "metadata": {},
   "outputs": [
    {
     "name": "stdout",
     "output_type": "stream",
     "text": [
      "True\n",
      "False\n",
      "Is (1,1) in both rectangles? False\n"
     ]
    }
   ],
   "source": [
    "# Part a: Write the inside function\n",
    "\n",
    "def inside(x, y, x1, y1, x2, y2):\n",
    "    # Check if x is between x1 and x2\n",
    "    if x1 <= x <= x2:\n",
    "        # Check if y is between y1 and y2\n",
    "        if y1 <= y <= y2:\n",
    "            return True\n",
    "    \n",
    "    # If we get here, the point is not inside\n",
    "    return False\n",
    "\n",
    "# Let's test the function\n",
    "print(inside(1, 1, 0, 0, 2, 3))  # Should print True\n",
    "print(inside(-1, -1, 0, 0, 2, 3))  # Should print False\n",
    "\n",
    "# Part b: Check if (1,1) is in both rectangles\n",
    "\n",
    "# First rectangle\n",
    "rect1_inside = inside(1, 1, 0.3, 0.5, 1.1, 0.7)\n",
    "\n",
    "# Second rectangle\n",
    "rect2_inside = inside(1, 1, 0.5, 0.2, 1.1, 2)\n",
    "\n",
    "# Check if it's in both\n",
    "in_both = rect1_inside and rect2_inside\n",
    "\n",
    "print(\"Is (1,1) in both rectangles?\", in_both)"
   ]
  },
  {
   "cell_type": "markdown",
   "id": "5f187446-64ba-48cf-b21b-70602f381291",
   "metadata": {},
   "source": [
    "# Question 6\r\n",
    "16. You can turn a word into pig-Latin using the following two rules (simplified):\r\n",
    "• If the word starts with a consonant, move that letter to the end and append\r\n",
    "'ay'. For example, 'happy' becomes 'appyhay' and 'pencil' becomes 'encilpay'.\r\n",
    "• If the word starts with a vowel, simply append 'way' to the end of the word.\r\n",
    "For example, 'enter' becomes 'enterway' and 'other' becomes 'otherway' . For\r\n",
    "our purposes, there are 5 vowels: a, e, i, o, u (so we count y as a consonant).\r\n",
    "Write a function pig() that takes a word (i.e., a string) as input and returns its pig-\r\n",
    "Latin form. Your function should still work if the input word contains upper case\r\n",
    "characters. Your output should always be lower case however.\r\n",
    ">>> pig('happy')\r\n",
    "'appyhay'\r\n",
    ">>> pig('Enter')\r\n",
    "'enterway'"
   ]
  },
  {
   "cell_type": "code",
   "execution_count": 7,
   "id": "f117bd1c-418a-4206-947b-031e6e05bd00",
   "metadata": {},
   "outputs": [
    {
     "name": "stdout",
     "output_type": "stream",
     "text": [
      "appyhay\n",
      "enterway\n"
     ]
    }
   ],
   "source": [
    "def pig(word):\n",
    "    vowels = 'aeiou'\n",
    "    word = word.lower()\n",
    "    if word[0] in vowels:\n",
    "        return word + 'way'\n",
    "    else:\n",
    "        return word[1:] + word[0] + 'ay'\n",
    "\n",
    "# Test the function\n",
    "print(pig('happy'))\n",
    "print(pig('Enter'))"
   ]
  },
  {
   "cell_type": "markdown",
   "id": "4c19df5f-940b-4ab0-aef4-fd6cf9845171",
   "metadata": {},
   "source": [
    "# Question 7\n",
    "File bloodtype1.txt records blood-types of patients (A, B, AB, O or OO) at a clinic.\n",
    "Write a function bldcount() that reads the file with name name and reports (i.e.,\n",
    "prints) how many patients there are in each bloodtype.\n",
    ">>> bldcount('bloodtype.txt')\n",
    "There are 10 patients of blood type A.\n",
    "There is one patient of blood type B.\n",
    "There are 10 patients of blood type AB.\n",
    "There are 12 patients of blood type O.\n",
    "There are no patients of blood type OO."
   ]
  },
  {
   "cell_type": "code",
   "execution_count": 17,
   "id": "a84a43a8-6077-4f15-a0fb-b31858b28e0f",
   "metadata": {},
   "outputs": [
    {
     "ename": "FileNotFoundError",
     "evalue": "[Errno 2] No such file or directory: 'bloodtype1.txt'",
     "output_type": "error",
     "traceback": [
      "\u001b[1;31m---------------------------------------------------------------------------\u001b[0m",
      "\u001b[1;31mFileNotFoundError\u001b[0m                         Traceback (most recent call last)",
      "Cell \u001b[1;32mIn[17], line 23\u001b[0m\n\u001b[0;32m     19\u001b[0m         \u001b[38;5;28;01melse\u001b[39;00m:\n\u001b[0;32m     20\u001b[0m             \u001b[38;5;28mprint\u001b[39m(\u001b[38;5;124m\"\u001b[39m\u001b[38;5;124mThere are\u001b[39m\u001b[38;5;124m\"\u001b[39m, count ,\u001b[38;5;124m\"\u001b[39m\u001b[38;5;124mpatients of blood type\u001b[39m\u001b[38;5;124m\"\u001b[39m, blood)\n\u001b[1;32m---> 23\u001b[0m bldcount(\u001b[38;5;124m'\u001b[39m\u001b[38;5;124mbloodtype1.txt\u001b[39m\u001b[38;5;124m'\u001b[39m)\n",
      "Cell \u001b[1;32mIn[17], line 6\u001b[0m, in \u001b[0;36mbldcount\u001b[1;34m(filename)\u001b[0m\n\u001b[0;32m      2\u001b[0m blood_types \u001b[38;5;241m=\u001b[39m [\u001b[38;5;124m'\u001b[39m\u001b[38;5;124mA\u001b[39m\u001b[38;5;124m'\u001b[39m, \u001b[38;5;124m'\u001b[39m\u001b[38;5;124mB\u001b[39m\u001b[38;5;124m'\u001b[39m, \u001b[38;5;124m'\u001b[39m\u001b[38;5;124mAB\u001b[39m\u001b[38;5;124m'\u001b[39m, \u001b[38;5;124m'\u001b[39m\u001b[38;5;124mO\u001b[39m\u001b[38;5;124m'\u001b[39m, \u001b[38;5;124m'\u001b[39m\u001b[38;5;124mOO\u001b[39m\u001b[38;5;124m'\u001b[39m]\n\u001b[0;32m      4\u001b[0m blood_count \u001b[38;5;241m=\u001b[39m {blood: \u001b[38;5;241m0\u001b[39m \u001b[38;5;28;01mfor\u001b[39;00m blood \u001b[38;5;129;01min\u001b[39;00m blood_types}\n\u001b[1;32m----> 6\u001b[0m \u001b[38;5;28;01mwith\u001b[39;00m \u001b[38;5;28mopen\u001b[39m(filename, \u001b[38;5;124m'\u001b[39m\u001b[38;5;124mr\u001b[39m\u001b[38;5;124m'\u001b[39m) \u001b[38;5;28;01mas\u001b[39;00m file:\n\u001b[0;32m      7\u001b[0m     blood_list \u001b[38;5;241m=\u001b[39m file\u001b[38;5;241m.\u001b[39mread()\u001b[38;5;241m.\u001b[39msplit()\n\u001b[0;32m      9\u001b[0m     \u001b[38;5;28;01mfor\u001b[39;00m blood \u001b[38;5;129;01min\u001b[39;00m blood_list:\n",
      "File \u001b[1;32m~\\anaconda3\\Lib\\site-packages\\IPython\\core\\interactiveshell.py:324\u001b[0m, in \u001b[0;36m_modified_open\u001b[1;34m(file, *args, **kwargs)\u001b[0m\n\u001b[0;32m    317\u001b[0m \u001b[38;5;28;01mif\u001b[39;00m file \u001b[38;5;129;01min\u001b[39;00m {\u001b[38;5;241m0\u001b[39m, \u001b[38;5;241m1\u001b[39m, \u001b[38;5;241m2\u001b[39m}:\n\u001b[0;32m    318\u001b[0m     \u001b[38;5;28;01mraise\u001b[39;00m \u001b[38;5;167;01mValueError\u001b[39;00m(\n\u001b[0;32m    319\u001b[0m         \u001b[38;5;124mf\u001b[39m\u001b[38;5;124m\"\u001b[39m\u001b[38;5;124mIPython won\u001b[39m\u001b[38;5;124m'\u001b[39m\u001b[38;5;124mt let you open fd=\u001b[39m\u001b[38;5;132;01m{\u001b[39;00mfile\u001b[38;5;132;01m}\u001b[39;00m\u001b[38;5;124m by default \u001b[39m\u001b[38;5;124m\"\u001b[39m\n\u001b[0;32m    320\u001b[0m         \u001b[38;5;124m\"\u001b[39m\u001b[38;5;124mas it is likely to crash IPython. If you know what you are doing, \u001b[39m\u001b[38;5;124m\"\u001b[39m\n\u001b[0;32m    321\u001b[0m         \u001b[38;5;124m\"\u001b[39m\u001b[38;5;124myou can use builtins\u001b[39m\u001b[38;5;124m'\u001b[39m\u001b[38;5;124m open.\u001b[39m\u001b[38;5;124m\"\u001b[39m\n\u001b[0;32m    322\u001b[0m     )\n\u001b[1;32m--> 324\u001b[0m \u001b[38;5;28;01mreturn\u001b[39;00m io_open(file, \u001b[38;5;241m*\u001b[39margs, \u001b[38;5;241m*\u001b[39m\u001b[38;5;241m*\u001b[39mkwargs)\n",
      "\u001b[1;31mFileNotFoundError\u001b[0m: [Errno 2] No such file or directory: 'bloodtype1.txt'"
     ]
    }
   ],
   "source": [
    "def bldcount(filename):\n",
    "    blood_types = ['A', 'B', 'AB', 'O', 'OO']\n",
    "\n",
    "    blood_count = {blood: 0 for blood in blood_types}\n",
    "\n",
    "    with open(filename, 'r') as file:\n",
    "        blood_list = file.read().split()\n",
    "        \n",
    "        for blood in blood_list:\n",
    "            if blood in blood_count:\n",
    "                blood_count[blood] += 1\n",
    "    \n",
    "    for blood in blood_types:\n",
    "        count = blood_count[blood]\n",
    "        if count == 0:\n",
    "            print(\"There are no patients of blood type \",blood)\n",
    "        elif count == 1:\n",
    "            print(\"There is one patient of blood type\", blood)\n",
    "        else:\n",
    "            print(\"There are\", count ,\"patients of blood type\", blood)\n",
    "\n",
    "\n",
    "bldcount('bloodtype1.txt')"
   ]
  },
  {
   "cell_type": "markdown",
   "id": "f7367e78-d1df-4fe7-a089-e623befaa995",
   "metadata": {},
   "source": [
    "# Question 9\r\n",
    "Each of the following will cause an exception (an error). Identify what type of\r\n",
    "exception each will cause*.\r\n",
    "Trying to add incompatible variables, as in\r\n",
    "adding 6 + *‘a’\r\n",
    "Referring to the 12th item of a list that has only 10\r\n",
    "*items\r\n",
    "Using a value that is out of range for a function’s\r\n",
    "input, such as calling math.sqr*t(-1.0)\r\n",
    "Using an undeclared variable, such as print(x)\r\n",
    "when x has not bee*n defined\r\n",
    "Trying to open a file that does not exist, such as\r\n",
    "mistyping the file name or looking in the wrong\r\n",
    "directory."
   ]
  },
  {
   "cell_type": "markdown",
   "id": "568e8970-c5c5-42b6-9ec7-5e02e7a29f16",
   "metadata": {},
   "source": [
    "*Adding 6 + 'a': TypeError\n",
    "*Referring to the 12th item of a list with only 10 items: IndexError\n",
    "*Calling math.sqrt(-1.0): ValueError\n",
    "*Using print(x) when x is not defined: NameError\n",
    "*Trying to open a non-existent file: FileNotFoundError"
   ]
  },
  {
   "cell_type": "markdown",
   "id": "83ffc11a-0f8a-45f8-8e88-619072a9dcaf",
   "metadata": {},
   "source": [
    "# Question 10\r\n",
    "Encryption is the process of hiding the meaning of a text by substituting letters in the\r\n",
    "message with other letters, according to some system. If the process is successful, no\r\n",
    "one but the intended recipient can understand the encrypted message. Cryptanalysis\r\n",
    "refers to attempts to undo the encryption, even if some details of the encryption are\r\n",
    "unknown (for example, if an encrypted message has been intercepted). The first step\r\n",
    "of cryptanalysis is often to build up a table of letter frequencies in the encrypted text.\r\n",
    "Assume that the string letters is already defined as\r\n",
    "'abcdefghijklmnopqrstuvwxyz'. Write a function called frequencies()\r\n",
    "that takes a string as its only parameter, and returns a list of integers, showing the\r\n",
    "number of times each character appears in the text. Your function may ignore any\r\n",
    "characters that are not in letters.\r\n",
    ">>> frequencies('The quick red fox got bored and went home.')\r\n",
    "[1, 1, 1, 3, 5, 1, 1, 2, 1, 0, 1, 0, 1, 2, 4, 0, 1, 2, 0, 2,\r\n",
    "1, 0, 1, 1, 0, 0]\r\n",
    ">>> frequencies('apple')"
   ]
  },
  {
   "cell_type": "code",
   "execution_count": 19,
   "id": "9fa2bd75-ee2a-4406-a88e-76001621ffe6",
   "metadata": {},
   "outputs": [
    {
     "name": "stdout",
     "output_type": "stream",
     "text": [
      "[1, 1, 1, 3, 5, 1, 1, 2, 1, 0, 1, 0, 1, 2, 4, 0, 1, 2, 0, 3, 1, 0, 1, 1, 0, 0]\n",
      "[1, 0, 0, 0, 1, 0, 0, 0, 0, 0, 0, 1, 0, 0, 0, 2, 0, 0, 0, 0, 0, 0, 0, 0, 0, 0]\n"
     ]
    }
   ],
   "source": [
    "def frequencies(text):\n",
    "    letters = 'abcdefghijklmnopqrstuvwxyz'\n",
    "    freq_list = [0] * 26\n",
    "    \n",
    "    for char in text.lower():\n",
    "        if char in letters:\n",
    "            index = letters.index(char)\n",
    "            freq_list[index] += 1\n",
    "    \n",
    "    return freq_list\n",
    "\n",
    "# Test the function\n",
    "print(frequencies('The quick red fox got bored and went home.'))\n",
    "print(frequencies('apple'))"
   ]
  }
 ],
 "metadata": {
  "kernelspec": {
   "display_name": "Python 3 (ipykernel)",
   "language": "python",
   "name": "python3"
  },
  "language_info": {
   "codemirror_mode": {
    "name": "ipython",
    "version": 3
   },
   "file_extension": ".py",
   "mimetype": "text/x-python",
   "name": "python",
   "nbconvert_exporter": "python",
   "pygments_lexer": "ipython3",
   "version": "3.12.4"
  }
 },
 "nbformat": 4,
 "nbformat_minor": 5
}
