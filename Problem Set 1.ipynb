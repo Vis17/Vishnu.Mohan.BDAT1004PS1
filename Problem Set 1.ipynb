{
 "cells": [
  {
   "cell_type": "markdown",
   "id": "a6709943-205f-4dc1-be63-dbd43ad30315",
   "metadata": {
    "jp-MarkdownHeadingCollapsed": true
   },
   "source": [
    "# Question 1\n",
    "\r",
    "What data type is each of the following (evaluate where necessary)?y 5\r\n",
    "5.0\r\n",
    "5 > 1\r\n",
    "'5'\r\n",
    "5 * 2\r\n",
    "'5' * 2\r\n",
    "'5' + '2'\r\n",
    "5 / 2\r\n",
    "5\r\n",
    "2\r\n",
    "{\r\n",
    "5, 2, 1\r\n",
    "5\r\n",
    "== 3\r\n",
    "Pi\r\n",
    "(theber)\n",
    "?"
   ]
  },
  {
   "cell_type": "code",
   "execution_count": 1,
   "id": "670cf360-9f30-48e4-9973-097c93535007",
   "metadata": {},
   "outputs": [
    {
     "name": "stdout",
     "output_type": "stream",
     "text": [
      "5 : int\n",
      "5.0 : float\n",
      "True : bool\n",
      "5 : str\n",
      "10 : int\n",
      "55 : str\n",
      "52 : str\n",
      "2.5 : float\n",
      "1 : int\n",
      "{1, 2, 5} : set\n",
      "False : bool\n",
      "3.141592653589793 : float\n"
     ]
    }
   ],
   "source": [
    "import math\n",
    "\n",
    "expressions = [\n",
    "    5,\n",
    "    5.0,\n",
    "    5 > 1,\n",
    "    '5',\n",
    "    5 * 2,\n",
    "    '5' * 2,\n",
    "    '5' + '2',\n",
    "    5 / 2,\n",
    "    5 % 2,\n",
    "    {5, 2, 1},\n",
    "    5 == 3,\n",
    "    math.pi\n",
    "]\n",
    "\n",
    "for expr in expressions:\n",
    "    print(f\"{expr} : {type(expr).__name__}\")"
   ]
  },
  {
   "cell_type": "markdown",
   "id": "b9db32a5-ddd4-43ec-b157-3c26b637f8e4",
   "metadata": {},
   "source": [
    "# Question 2\r\n",
    "Write (and evaluate) python expressions that answer these questions\n",
    "\r\n",
    "a. How many letters are there in 'Supercalifragilisticexpialidocious\n",
    "'?\r\n",
    "b. Does 'Supercalifragilisticexpialidocious' contain 'ice' as a subsng?\n",
    "tri\n",
    "c. Which of the following words is the longest:\r\n",
    "Supercalifragilisticexpialidocious, Honorificabilitudinitatibus, or\r\n",
    "Bababadalgharaghtakamminarronn\n",
    "konn?\r\n",
    "d. Which composer comes first in the dictionary: 'Berlioz', 'Borodin', 'Brian',\r\n",
    "'Bartok', 'Bellini', 'Buxtehude', 'Bernstein'. Which one comes last?ng?"
   ]
  },
  {
   "cell_type": "code",
   "execution_count": 13,
   "id": "2124ff6e-470a-4822-b0ba-f2f0c2923185",
   "metadata": {},
   "outputs": [
    {
     "name": "stdout",
     "output_type": "stream",
     "text": [
      "a. Number of letters in 'Supercalifragilisticexpialidocious': 34\n",
      "b. Does 'Supercalifragilisticexpialidocious' contain 'ice'?: True\n",
      "c. The longest word is: Supercalifragilisticexpialidocious\n",
      "d. First composer alphabetically: Bartok\n",
      "   Last composer alphabetically: Buxtehude\n"
     ]
    }
   ],
   "source": [
    "# a\n",
    "word = \"Supercalifragilisticexpialidocious\"\n",
    "print(f\"a. Number of letters in '{word}': {len(word)}\")\n",
    "\n",
    "# b.\n",
    "print(f\"b. Does '{word}' contain 'ice'?: {'ice' in word}\")\n",
    "\n",
    "# c.\n",
    "words = ['Supercalifragilisticexpialidocious', 'Honorificabilitudinitatibus', 'Bababadalgharaghtakamminarronnkonn']\n",
    "longest_word = max(words, key=len)\n",
    "print(f\"c. The longest word is: {longest_word}\")\n",
    "\n",
    "# d.\n",
    "composers = ['Berlioz', 'Borodin', 'Brian', 'Bartok', 'Bellini', 'Buxtehude', 'Bernstein']\n",
    "print(f\"d. First composer alphabetically: {min(composers)}\")\n",
    "print(f\"   Last composer alphabetically: {max(composers)}\")"
   ]
  },
  {
   "cell_type": "markdown",
   "id": "40ff75ca-bbee-4f41-868e-13236a443648",
   "metadata": {},
   "source": [
    "# Question 3\n",
    "Implement function triangleArea(a,b,c) that takes as input the lengths of the 3\n",
    "sides of a triangle and returns the area of the triangle. \n",
    "\n",
    "By Heron's formula, the area\n",
    "of a triangle with side lengths a, b, and c iss(s - a)(s - b)(s - c) , wheres = (a + b + c)/2.\n",
    "\n",
    "\n",
    ">>> triangleArea(2,2,2)\n",
    "1.7320508075688772"
   ]
  },
  {
   "cell_type": "code",
   "execution_count": 5,
   "id": "107495a9-f24e-4410-851f-5cbcecac0ab4",
   "metadata": {},
   "outputs": [
    {
     "name": "stdout",
     "output_type": "stream",
     "text": [
      "1.7320508075688772\n"
     ]
    }
   ],
   "source": [
    "import math\n",
    "\n",
    "def triangleArea(a, b, c):\n",
    "    \n",
    "    s = (a + b + c) / 2\n",
    "    \n",
    "\n",
    "    area = math.sqrt(s * (s - a) * (s - b) * (s - c))\n",
    "    \n",
    "    return area\n",
    "\n",
    "\n",
    "print(triangleArea(2, 2, 2))"
   ]
  },
  {
   "cell_type": "markdown",
   "id": "d3237762-5958-4a5b-954e-dcf562a503c7",
   "metadata": {},
   "source": [
    "# Question 4\r\n",
    "Write a program in python to separate odd and even integers in separate arrays.\n",
    " G\r\n",
    "to the edito-r\r\n",
    "Test Dat\n",
    "a :\r\n",
    "Input the number of elements to be stored in the array :5\r\n",
    "Input 5 elements in the ar\n",
    "ray :\r\n",
    "element - \n",
    "0 : 25\r\n",
    "element -\n",
    " 1 : 47\r\n",
    "element \n",
    "- 2 : 42\r\n",
    "element\n",
    " - 3 : 56\r\n",
    "elemen\n",
    "t - 4 : 32\r\n",
    "Expec\n",
    "ted Output:\r\n",
    "The Even elements are:\r\n",
    "42 56 32\r\n",
    "The Odd elements are :\r\n",
    "25 47"
   ]
  },
  {
   "cell_type": "code",
   "execution_count": 11,
   "id": "e6b26f06-c7bc-45bc-bc0f-75443c4d9975",
   "metadata": {},
   "outputs": [
    {
     "name": "stdin",
     "output_type": "stream",
     "text": [
      "Input the number of elements to be stored in the array:  5\n"
     ]
    },
    {
     "name": "stdout",
     "output_type": "stream",
     "text": [
      "Input 5 elements in the array:\n"
     ]
    },
    {
     "name": "stdin",
     "output_type": "stream",
     "text": [
      "element - 0 :  25\n",
      "element - 1 :  47\n",
      "element - 2 :  42\n",
      "element - 3 :  56\n",
      "element - 4 :  32\n"
     ]
    },
    {
     "name": "stdout",
     "output_type": "stream",
     "text": [
      "The Even elements are:\n",
      "42 56 32 \n",
      "The Odd elements are:\n",
      "25 47 "
     ]
    }
   ],
   "source": [
    "\n",
    "num_elements = int(input(\"Input the number of elements to be stored in the array: \"))\n",
    "\n",
    "\n",
    "all_numbers = []\n",
    "even_numbers = []\n",
    "odd_numbers = []\n",
    "\n",
    "\n",
    "print(f\"Input {num_elements} elements in the array:\")\n",
    "for i in range(num_elements):\n",
    "    element = int(input(f\"element - {i} : \"))\n",
    "    all_numbers.append(element)\n",
    "    \n",
    "   \n",
    "    if element % 2 == 0:\n",
    "        even_numbers.append(element)\n",
    "    else:\n",
    "        odd_numbers.append(element)\n",
    "\n",
    "\n",
    "print(\"The Even elements are:\")\n",
    "for num in even_numbers:\n",
    "    print(num, end=\" \")\n",
    "\n",
    "print(\"\\nThe Odd elements are:\")\n",
    "for num in odd_numbers:\n",
    "    print(num, end=\" \")"
   ]
  },
  {
   "cell_type": "markdown",
   "id": "c528e631-0d2f-4047-820c-2da888707cb7",
   "metadata": {
    "jp-MarkdownHeadingCollapsed": true
   },
   "source": [
    "# Question 5\n",
    "\r",
    "a. Write a function inside(x,y,x1,y1,x2,y2) that returns True or False depending on whether the point (x,y) lies in the rectangle with lower left corner (x1,y1) and upper right corner (x2,y2).)\n",
    "--\r\n",
    ">>> inside(1,1,0,0,2,3)\r\n",
    "Tr--ue\r\n",
    ">>> inside(-1,-1,0,0,2,3)\r\n",
    "\n",
    "False\r\n",
    "b. Use function inside() from part a. to write an expression that tests whether the point (1,1) lies in both of the following rectangles: one with lower left corner (0.3, 0.5) and upper right corner (1.1, 0.7) and the other with lower left corner (0.5, 0.2) and upper right corner (1.1, 2).r (1.\n",
    "1, 2)."
   ]
  },
  {
   "cell_type": "code",
   "execution_count": 45,
   "id": "aa395b80-1a6f-44d0-a40e-ed38ada7ca1c",
   "metadata": {},
   "outputs": [
    {
     "name": "stdout",
     "output_type": "stream",
     "text": [
      "True\n",
      "False\n",
      "Is (1,1) in both rectangles? False\n"
     ]
    }
   ],
   "source": [
    "\n",
    "\n",
    "def inside(x, y, x1, y1, x2, y2):\n",
    "    \n",
    "    if x1 <= x <= x2:\n",
    "       \n",
    "        if y1 <= y <= y2:\n",
    "            return True\n",
    "    \n",
    "    \n",
    "    return False\n",
    "\n",
    "\n",
    "print(inside(1, 1, 0, 0, 2, 3)) \n",
    "print(inside(-1, -1, 0, 0, 2, 3))\n",
    "\n",
    "\n",
    "\n",
    "\n",
    "rect1_inside = inside(1, 1, 0.3, 0.5, 1.1, 0.7)\n",
    "\n",
    "\n",
    "rect2_inside = inside(1, 1, 0.5, 0.2, 1.1, 2)\n",
    "\n",
    "\n",
    "in_both = rect1_inside and rect2_inside\n",
    "\n",
    "print(\"Is (1,1) in both rectangles?\", in_both)"
   ]
  },
  {
   "cell_type": "markdown",
   "id": "5f187446-64ba-48cf-b21b-70602f381291",
   "metadata": {},
   "source": [
    "# Question 6\r\n",
    "16. You can turn a word into pig-Latin using the following two rules (simplified)\n",
    "    :\r\n",
    "• If the word starts with a consonant, move that letter to the end and append\r\n",
    "'ay'. For example, 'happy' becomes 'appyhay' and 'pencil' becomes 'encilpa\n",
    "y'.\r\n",
    "• If the word starts with a vowel, simply append 'way' to the end of the word.\r\n",
    "For example, 'enter' becomes 'enterway' and 'other' becomes 'otherway' . For\r\n",
    "our purposes, there are 5 vowels: a, e, i, o, u (so we count y as a consonant).\r\n",
    "Write a function pig() that takes a word (i.e., a string) as input and returns its pig-\r\n",
    "Latin form. Your function should still work if the input word contains upper case\r\n",
    "characters. Your output should always be lower case\n",
    " however.\r\n",
    ">>> pig('happy')\r\n",
    "'appyhay'\r\n",
    ">>> pig('Enter')\r\n",
    "'enterway'"
   ]
  },
  {
   "cell_type": "code",
   "execution_count": 17,
   "id": "f117bd1c-418a-4206-947b-031e6e05bd00",
   "metadata": {},
   "outputs": [
    {
     "name": "stdout",
     "output_type": "stream",
     "text": [
      "appyhay\n",
      "enterway\n"
     ]
    }
   ],
   "source": [
    "def pig(word):\n",
    "    vowels = 'aeiou'\n",
    "    word = word.lower()\n",
    "    if word[0] in vowels:\n",
    "        return word + 'way'\n",
    "    else:\n",
    "        return word[1:] + word[0] + 'ay'\n",
    "\n",
    "\n",
    "print(pig('happy'))\n",
    "print(pig('Enter'))"
   ]
  },
  {
   "cell_type": "markdown",
   "id": "4c19df5f-940b-4ab0-aef4-fd6cf9845171",
   "metadata": {},
   "source": [
    "# Question 7\n",
    "File bloodtype1.txt records blood-types of patients (A, B, AB, O or OO) at a clinic.\n",
    "\n",
    "Write a function bldcount() that reads the file with name name and reports (i.e.,\n",
    "prints) how many patients there are in each bloodtype.\n",
    "\n",
    ">>> bldcount('bloodtype.txt')\n",
    "\n",
    "There are 10 patients of blood type A.\n",
    "There is one patient of blood type B.\n",
    "There are 10 patients of blood type AB.\n",
    "There are 12 patients of blood type O.\n",
    "There are no patients of blood type OO."
   ]
  },
  {
   "cell_type": "code",
   "execution_count": 41,
   "id": "a84a43a8-6077-4f15-a0fb-b31858b28e0f",
   "metadata": {},
   "outputs": [
    {
     "name": "stdout",
     "output_type": "stream",
     "text": [
      "There are no patients of blood type A.\n",
      "There are no patients of blood type B.\n",
      "There are no patients of blood type AB.\n",
      "There are no patients of blood type O.\n",
      "There are no patients of blood type OO.\n"
     ]
    }
   ],
   "source": [
    "import requests\n",
    "\n",
    "def bldcount(url):\n",
    "    \n",
    "    blood_counts = {'A': 0, 'B': 0, 'AB': 0, 'O': 0, 'OO': 0}\n",
    "    \n",
    "    \n",
    "    try:\n",
    "        response = requests.get(url)\n",
    "        response.raise_for_status()  \n",
    "        content = response.text\n",
    "    except requests.RequestException as e:\n",
    "        print(f\"Error fetching the file: {e}\")\n",
    "        return\n",
    "    \n",
    "    \n",
    "    for line in content.split('\\n'):\n",
    "        blood_type = line.strip()\n",
    "        if blood_type in blood_counts:\n",
    "            blood_counts[blood_type] += 1\n",
    "    \n",
    "    \n",
    "    for blood_type, count in blood_counts.items():\n",
    "        if count == 0:\n",
    "            print(f\"There are no patients of blood type {blood_type}.\")\n",
    "        elif count == 1:\n",
    "            print(f\"There is one patient of blood type {blood_type}.\")\n",
    "        else:\n",
    "            print(f\"There are {count} patients of blood type {blood_type}.\")\n",
    "\n",
    "\n",
    "github_url = \"https://raw.githubusercontent.com/Vis17/Vishnu.Mohan.BDAT1004PS1/main/currencies.txt\"\n",
    "\n",
    "\n",
    "bldcount(github_url)"
   ]
  },
  {
   "cell_type": "markdown",
   "id": "f0def32b-d626-4852-918b-f70c4a228d46",
   "metadata": {},
   "source": [
    "# Question 8\r\n",
    "Write a function curconv() that takes as input:\r\n",
    "1. a currency represented using a string (e.g., 'JPY' for the Japanese Yen or\r\n",
    "'EUR' for the Euro)\r\n",
    "2. an amount\r\n",
    "and then converts and returns the amount in US dollars.\r\n",
    ">>> curconv('EUR', 100)\r\n",
    "122.96544\r\n",
    ">>> curconv('JPY', 100)\r\n",
    "1.241401\r\n",
    "The currency rates you will need are stored in file currencies.txt:\r\n",
    "AUD 1.0345157 Australian Dollar\r\n",
    "CHF 1.0237414 Swiss Franc\r\n",
    "CNY 0.1550176\n",
    "DKK 0.1651442 Danish Krone\r\n",
    "EUR 1.2296544 Euro\r\n",
    "GBP 1.5550989 British Pound\r\n",
    "HKD 0.1270207 Hong Kong Dollar\r\n",
    "INR 0.0177643 Indian Rupee\r\n",
    "JPY 0.01241401 Japanese Yen\r\n",
    "MXN 0.0751848 Mexican Peso\r\n",
    "MYR 0.3145411 Malaysian Ringgit\r\n",
    "NOK 0.1677063 Norwegian Krone\r\n",
    "NZD 0.8003591 New Zealand Dollar\r\n",
    "PHP 0.0233234 Philippine Peso\r\n",
    "SEK 0.148269 Swedish Krona\r\n",
    "SGD 0.788871 Singapore Dollar\r\n",
    "THB 0.0313789 Thai Baht Chinese Yuan"
   ]
  },
  {
   "cell_type": "code",
   "execution_count": 47,
   "id": "02d7267c-6515-47d5-94f4-cd43e2dfa80d",
   "metadata": {},
   "outputs": [
    {
     "name": "stdout",
     "output_type": "stream",
     "text": [
      "122.96544\n",
      "1.241401\n"
     ]
    }
   ],
   "source": [
    "import requests\n",
    "\n",
    "def curconv(currency, amount):\n",
    " \n",
    "    url = \"https://raw.githubusercontent.com/Vis17/Vishnu.Mohan.BDAT1004PS1/main/currencies.txt\"\n",
    "    \n",
    "    \n",
    "    try:\n",
    "        response = requests.get(url)\n",
    "        response.raise_for_status()  \n",
    "        content = response.text\n",
    "    except requests.RequestException as e:\n",
    "        print(f\"Error fetching the file: {e}\")\n",
    "        return None\n",
    "\n",
    "    \n",
    "    currency_rates = {}\n",
    "    for line in content.split('\\n'):\n",
    "        if line.strip(): \n",
    "            parts = line.split()\n",
    "            if len(parts) >= 2:\n",
    "                currency_code = parts[0]\n",
    "                rate = float(parts[1])\n",
    "                currency_rates[currency_code] = rate\n",
    "\n",
    "    \n",
    "    if currency in currency_rates:\n",
    "        usd_amount = amount * currency_rates[currency]\n",
    "        return round(usd_amount, 6)  \n",
    "    else:\n",
    "        print(f\"Currency {currency} not found in the conversion rates.\")\n",
    "        return None\n",
    "\n",
    "\n",
    "print(curconv('EUR', 100))\n",
    "print(curconv('JPY', 100))"
   ]
  },
  {
   "cell_type": "markdown",
   "id": "f7367e78-d1df-4fe7-a089-e623befaa995",
   "metadata": {},
   "source": [
    "# Question 9\r\n",
    "Each of the following will cause an exception (an error). Identify what type of\r\n",
    "exception each will cause*.\r\n",
    "Trying to add incompatible variables, as in\r\n",
    "adding 6 + *‘a’\r\n",
    "Referring to the 12th item of a list that has only 10\r\n",
    "*items\r\n",
    "Using a value that is out of range for a function’s\r\n",
    "input, such as calling math.sqr*t(-1.0)\r\n",
    "Using an undeclared variable, such as print(x)\r\n",
    "when x has not bee*n defined\r\n",
    "Trying to open a file that does not exist, such as\r\n",
    "mistyping the file name or looking in the wrong\r\n",
    "directory."
   ]
  },
  {
   "cell_type": "markdown",
   "id": "568e8970-c5c5-42b6-9ec7-5e02e7a29f16",
   "metadata": {},
   "source": [
    "*Adding 6 + 'a': TypeError\n",
    "\n",
    "*Referring to the 12th item of a list with only 10 items: IndexError\n",
    "\n",
    "*Calling math.sqrt(-1.0): ValueError\n",
    "\n",
    "*Using print(x) when x is not defined: NameError\n",
    "\n",
    "*Trying to open a non-existent file: FileNotFoundError"
   ]
  },
  {
   "cell_type": "markdown",
   "id": "83ffc11a-0f8a-45f8-8e88-619072a9dcaf",
   "metadata": {
    "jp-MarkdownHeadingCollapsed": true
   },
   "source": [
    "# Question 10\r\n",
    "Encryption is the process of hiding the meaning of a text by substituting letters in the\r\n",
    "message with other letters, according to some system. If the process is successful, no\r\n",
    "one but the intended recipient can understand the encrypted message. Cryptanalysis\r\n",
    "refers to attempts to undo the encryption, even if some details of the encryption are\r\n",
    "unknown (for example, if an encrypted message has been intercepted). The first step\r\n",
    "of cryptanalysis is often to build up a table of letter frequencies in the encrypted text.\r\n",
    "Assume that the string letters is already defined as\r\n",
    "'abcdefghijklmnopqrstuvwxyz'. Write a function called frequencies()\r\n",
    "that takes a string as its only parameter, and returns a list of integers, showing the\r\n",
    "number of times each character appears in the text. Your function may ignore any\r\n",
    "characters that are not \n",
    "\n",
    "in letters.\r\n",
    ">>> frequencies('The quick red fox got bored and went home.')\r\n",
    "[1, 1, 1, 3, 5, 1, 1, 2, 1, 0, 1, 0, 1, 2, 4, 0, 1, 2, 0, 2,\r\n",
    "1, 0, 1, 1, 0, 0]\r\n",
    ">>> frequ\n",
    "encies('apple')"
   ]
  },
  {
   "cell_type": "code",
   "execution_count": 19,
   "id": "9fa2bd75-ee2a-4406-a88e-76001621ffe6",
   "metadata": {},
   "outputs": [
    {
     "name": "stdout",
     "output_type": "stream",
     "text": [
      "[1, 1, 1, 3, 5, 1, 1, 2, 1, 0, 1, 0, 1, 2, 4, 0, 1, 2, 0, 3, 1, 0, 1, 1, 0, 0]\n",
      "[1, 0, 0, 0, 1, 0, 0, 0, 0, 0, 0, 1, 0, 0, 0, 2, 0, 0, 0, 0, 0, 0, 0, 0, 0, 0]\n"
     ]
    }
   ],
   "source": [
    "def frequencies(text):\n",
    "    letters = 'abcdefghijklmnopqrstuvwxyz'\n",
    "    freq_list = [0] * 26\n",
    "    \n",
    "    for char in text.lower():\n",
    "        if char in letters:\n",
    "            index = letters.index(char)\n",
    "            freq_list[index] += 1\n",
    "    \n",
    "    return freq_list\n",
    "\n",
    "\n",
    "print(frequencies('The quick red fox got bored and went home.'))\n",
    "print(frequencies('apple'))"
   ]
  }
 ],
 "metadata": {
  "kernelspec": {
   "display_name": "Python 3 (ipykernel)",
   "language": "python",
   "name": "python3"
  },
  "language_info": {
   "codemirror_mode": {
    "name": "ipython",
    "version": 3
   },
   "file_extension": ".py",
   "mimetype": "text/x-python",
   "name": "python",
   "nbconvert_exporter": "python",
   "pygments_lexer": "ipython3",
   "version": "3.12.4"
  }
 },
 "nbformat": 4,
 "nbformat_minor": 5
}
